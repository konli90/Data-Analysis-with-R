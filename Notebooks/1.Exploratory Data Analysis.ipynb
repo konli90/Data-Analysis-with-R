{
 "cells": [
  {
   "cell_type": "markdown",
   "metadata": {},
   "source": [
    "# Exploratory Data Analysis"
   ]
  },
  {
   "cell_type": "markdown",
   "metadata": {},
   "source": [
    "Importing our Libraries "
   ]
  },
  {
   "cell_type": "code",
   "execution_count": 3,
   "metadata": {},
   "outputs": [
    {
     "name": "stderr",
     "output_type": "stream",
     "text": [
      "\n",
      "Attaching package: 'matrixStats'\n",
      "\n",
      "The following object is masked from 'package:dplyr':\n",
      "\n",
      "    count\n",
      "\n"
     ]
    }
   ],
   "source": [
    "library(dplyr)\n",
    "library(tidyr)\n",
    "library(ggplot2)\n",
    "#library(vioplot)\n",
    "library(corrplot)\n",
    "#library(gmodels)\n",
    "library(matrixStats)"
   ]
  },
  {
   "cell_type": "code",
   "execution_count": 4,
   "metadata": {},
   "outputs": [],
   "source": [
    "state <- read.csv('data/state.csv')"
   ]
  },
  {
   "cell_type": "code",
   "execution_count": 5,
   "metadata": {},
   "outputs": [
    {
     "data": {
      "text/html": [
       "<table>\n",
       "<thead><tr><th scope=col>State</th><th scope=col>Population</th><th scope=col>Murder.Rate</th><th scope=col>Abbreviation</th></tr></thead>\n",
       "<tbody>\n",
       "\t<tr><td>Alabama       </td><td> 4779736      </td><td> 5.7          </td><td>AL            </td></tr>\n",
       "\t<tr><td>Alaska        </td><td>  710231      </td><td> 5.6          </td><td>AK            </td></tr>\n",
       "\t<tr><td>Arizona       </td><td> 6392017      </td><td> 4.7          </td><td>AZ            </td></tr>\n",
       "\t<tr><td>Arkansas      </td><td> 2915918      </td><td> 5.6          </td><td>AR            </td></tr>\n",
       "\t<tr><td>California    </td><td>37253956      </td><td> 4.4          </td><td>CA            </td></tr>\n",
       "\t<tr><td>Colorado      </td><td> 5029196      </td><td> 2.8          </td><td>CO            </td></tr>\n",
       "\t<tr><td>Connecticut   </td><td> 3574097      </td><td> 2.4          </td><td>CT            </td></tr>\n",
       "\t<tr><td>Delaware      </td><td>  897934      </td><td> 5.8          </td><td>DE            </td></tr>\n",
       "\t<tr><td>Florida       </td><td>18801310      </td><td> 5.8          </td><td>FL            </td></tr>\n",
       "\t<tr><td>Georgia       </td><td> 9687653      </td><td> 5.7          </td><td>GA            </td></tr>\n",
       "\t<tr><td>Hawaii        </td><td> 1360301      </td><td> 1.8          </td><td>HI            </td></tr>\n",
       "\t<tr><td>Idaho         </td><td> 1567582      </td><td> 2.0          </td><td>ID            </td></tr>\n",
       "\t<tr><td>Illinois      </td><td>12830632      </td><td> 5.3          </td><td>IL            </td></tr>\n",
       "\t<tr><td>Indiana       </td><td> 6483802      </td><td> 5.0          </td><td>IN            </td></tr>\n",
       "\t<tr><td>Iowa          </td><td> 3046355      </td><td> 1.9          </td><td>IA            </td></tr>\n",
       "\t<tr><td>Kansas        </td><td> 2853118      </td><td> 3.1          </td><td>KS            </td></tr>\n",
       "\t<tr><td>Kentucky      </td><td> 4339367      </td><td> 3.6          </td><td>KY            </td></tr>\n",
       "\t<tr><td>Louisiana     </td><td> 4533372      </td><td>10.3          </td><td>LA            </td></tr>\n",
       "\t<tr><td>Maine         </td><td> 1328361      </td><td> 1.6          </td><td>ME            </td></tr>\n",
       "\t<tr><td>Maryland      </td><td> 5773552      </td><td> 6.1          </td><td>MD            </td></tr>\n",
       "\t<tr><td>Massachusetts </td><td> 6547629      </td><td> 2.0          </td><td>MA            </td></tr>\n",
       "\t<tr><td>Michigan      </td><td> 9883640      </td><td> 5.4          </td><td>MI            </td></tr>\n",
       "\t<tr><td>Minnesota     </td><td> 5303925      </td><td> 1.6          </td><td>MN            </td></tr>\n",
       "\t<tr><td>Mississippi   </td><td> 2967297      </td><td> 8.6          </td><td>MS            </td></tr>\n",
       "\t<tr><td>Missouri      </td><td> 5988927      </td><td> 6.6          </td><td>MO            </td></tr>\n",
       "\t<tr><td>Montana       </td><td>  989415      </td><td> 3.6          </td><td>MT            </td></tr>\n",
       "\t<tr><td>Nebraska      </td><td> 1826341      </td><td> 2.9          </td><td>NE            </td></tr>\n",
       "\t<tr><td>Nevada        </td><td> 2700551      </td><td> 6.0          </td><td>NV            </td></tr>\n",
       "\t<tr><td>New Hampshire </td><td> 1316470      </td><td> 0.9          </td><td>NH            </td></tr>\n",
       "\t<tr><td>New Jersey    </td><td> 8791894      </td><td> 3.9          </td><td>NJ            </td></tr>\n",
       "\t<tr><td>New Mexico    </td><td> 2059179      </td><td> 4.8          </td><td>NM            </td></tr>\n",
       "\t<tr><td>New York      </td><td>19378102      </td><td> 3.1          </td><td>NY            </td></tr>\n",
       "\t<tr><td>North Carolina</td><td> 9535483      </td><td> 5.1          </td><td>NC            </td></tr>\n",
       "\t<tr><td>North Dakota  </td><td>  672591      </td><td> 3.0          </td><td>ND            </td></tr>\n",
       "\t<tr><td>Ohio          </td><td>11536504      </td><td> 4.0          </td><td>OH            </td></tr>\n",
       "\t<tr><td>Oklahoma      </td><td> 3751351      </td><td> 4.5          </td><td>OK            </td></tr>\n",
       "\t<tr><td>Oregon        </td><td> 3831074      </td><td> 2.0          </td><td>OR            </td></tr>\n",
       "\t<tr><td>Pennsylvania  </td><td>12702379      </td><td> 4.8          </td><td>PA            </td></tr>\n",
       "\t<tr><td>Rhode Island  </td><td> 1052567      </td><td> 2.4          </td><td>RI            </td></tr>\n",
       "\t<tr><td>South Carolina</td><td> 4625364      </td><td> 6.4          </td><td>SC            </td></tr>\n",
       "\t<tr><td>South Dakota  </td><td>  814180      </td><td> 2.3          </td><td>SD            </td></tr>\n",
       "\t<tr><td>Tennessee     </td><td> 6346105      </td><td> 5.7          </td><td>TN            </td></tr>\n",
       "\t<tr><td>Texas         </td><td>25145561      </td><td> 4.4          </td><td>TX            </td></tr>\n",
       "\t<tr><td>Utah          </td><td> 2763885      </td><td> 2.3          </td><td>UT            </td></tr>\n",
       "\t<tr><td>Vermont       </td><td>  625741      </td><td> 1.6          </td><td>VT            </td></tr>\n",
       "\t<tr><td>Virginia      </td><td> 8001024      </td><td> 4.1          </td><td>VA            </td></tr>\n",
       "\t<tr><td>Washington    </td><td> 6724540      </td><td> 2.5          </td><td>WA            </td></tr>\n",
       "\t<tr><td>West Virginia </td><td> 1852994      </td><td> 4.0          </td><td>WV            </td></tr>\n",
       "\t<tr><td>Wisconsin     </td><td> 5686986      </td><td> 2.9          </td><td>WI            </td></tr>\n",
       "\t<tr><td>Wyoming       </td><td>  563626      </td><td> 2.7          </td><td>WY            </td></tr>\n",
       "</tbody>\n",
       "</table>\n"
      ],
      "text/latex": [
       "\\begin{tabular}{r|llll}\n",
       " State & Population & Murder.Rate & Abbreviation\\\\\n",
       "\\hline\n",
       "\t Alabama        &  4779736       &  5.7           & AL            \\\\\n",
       "\t Alaska         &   710231       &  5.6           & AK            \\\\\n",
       "\t Arizona        &  6392017       &  4.7           & AZ            \\\\\n",
       "\t Arkansas       &  2915918       &  5.6           & AR            \\\\\n",
       "\t California     & 37253956       &  4.4           & CA            \\\\\n",
       "\t Colorado       &  5029196       &  2.8           & CO            \\\\\n",
       "\t Connecticut    &  3574097       &  2.4           & CT            \\\\\n",
       "\t Delaware       &   897934       &  5.8           & DE            \\\\\n",
       "\t Florida        & 18801310       &  5.8           & FL            \\\\\n",
       "\t Georgia        &  9687653       &  5.7           & GA            \\\\\n",
       "\t Hawaii         &  1360301       &  1.8           & HI            \\\\\n",
       "\t Idaho          &  1567582       &  2.0           & ID            \\\\\n",
       "\t Illinois       & 12830632       &  5.3           & IL            \\\\\n",
       "\t Indiana        &  6483802       &  5.0           & IN            \\\\\n",
       "\t Iowa           &  3046355       &  1.9           & IA            \\\\\n",
       "\t Kansas         &  2853118       &  3.1           & KS            \\\\\n",
       "\t Kentucky       &  4339367       &  3.6           & KY            \\\\\n",
       "\t Louisiana      &  4533372       & 10.3           & LA            \\\\\n",
       "\t Maine          &  1328361       &  1.6           & ME            \\\\\n",
       "\t Maryland       &  5773552       &  6.1           & MD            \\\\\n",
       "\t Massachusetts  &  6547629       &  2.0           & MA            \\\\\n",
       "\t Michigan       &  9883640       &  5.4           & MI            \\\\\n",
       "\t Minnesota      &  5303925       &  1.6           & MN            \\\\\n",
       "\t Mississippi    &  2967297       &  8.6           & MS            \\\\\n",
       "\t Missouri       &  5988927       &  6.6           & MO            \\\\\n",
       "\t Montana        &   989415       &  3.6           & MT            \\\\\n",
       "\t Nebraska       &  1826341       &  2.9           & NE            \\\\\n",
       "\t Nevada         &  2700551       &  6.0           & NV            \\\\\n",
       "\t New Hampshire  &  1316470       &  0.9           & NH            \\\\\n",
       "\t New Jersey     &  8791894       &  3.9           & NJ            \\\\\n",
       "\t New Mexico     &  2059179       &  4.8           & NM            \\\\\n",
       "\t New York       & 19378102       &  3.1           & NY            \\\\\n",
       "\t North Carolina &  9535483       &  5.1           & NC            \\\\\n",
       "\t North Dakota   &   672591       &  3.0           & ND            \\\\\n",
       "\t Ohio           & 11536504       &  4.0           & OH            \\\\\n",
       "\t Oklahoma       &  3751351       &  4.5           & OK            \\\\\n",
       "\t Oregon         &  3831074       &  2.0           & OR            \\\\\n",
       "\t Pennsylvania   & 12702379       &  4.8           & PA            \\\\\n",
       "\t Rhode Island   &  1052567       &  2.4           & RI            \\\\\n",
       "\t South Carolina &  4625364       &  6.4           & SC            \\\\\n",
       "\t South Dakota   &   814180       &  2.3           & SD            \\\\\n",
       "\t Tennessee      &  6346105       &  5.7           & TN            \\\\\n",
       "\t Texas          & 25145561       &  4.4           & TX            \\\\\n",
       "\t Utah           &  2763885       &  2.3           & UT            \\\\\n",
       "\t Vermont        &   625741       &  1.6           & VT            \\\\\n",
       "\t Virginia       &  8001024       &  4.1           & VA            \\\\\n",
       "\t Washington     &  6724540       &  2.5           & WA            \\\\\n",
       "\t West Virginia  &  1852994       &  4.0           & WV            \\\\\n",
       "\t Wisconsin      &  5686986       &  2.9           & WI            \\\\\n",
       "\t Wyoming        &   563626       &  2.7           & WY            \\\\\n",
       "\\end{tabular}\n"
      ],
      "text/markdown": [
       "\n",
       "| State | Population | Murder.Rate | Abbreviation |\n",
       "|---|---|---|---|\n",
       "| Alabama        |  4779736       |  5.7           | AL             |\n",
       "| Alaska         |   710231       |  5.6           | AK             |\n",
       "| Arizona        |  6392017       |  4.7           | AZ             |\n",
       "| Arkansas       |  2915918       |  5.6           | AR             |\n",
       "| California     | 37253956       |  4.4           | CA             |\n",
       "| Colorado       |  5029196       |  2.8           | CO             |\n",
       "| Connecticut    |  3574097       |  2.4           | CT             |\n",
       "| Delaware       |   897934       |  5.8           | DE             |\n",
       "| Florida        | 18801310       |  5.8           | FL             |\n",
       "| Georgia        |  9687653       |  5.7           | GA             |\n",
       "| Hawaii         |  1360301       |  1.8           | HI             |\n",
       "| Idaho          |  1567582       |  2.0           | ID             |\n",
       "| Illinois       | 12830632       |  5.3           | IL             |\n",
       "| Indiana        |  6483802       |  5.0           | IN             |\n",
       "| Iowa           |  3046355       |  1.9           | IA             |\n",
       "| Kansas         |  2853118       |  3.1           | KS             |\n",
       "| Kentucky       |  4339367       |  3.6           | KY             |\n",
       "| Louisiana      |  4533372       | 10.3           | LA             |\n",
       "| Maine          |  1328361       |  1.6           | ME             |\n",
       "| Maryland       |  5773552       |  6.1           | MD             |\n",
       "| Massachusetts  |  6547629       |  2.0           | MA             |\n",
       "| Michigan       |  9883640       |  5.4           | MI             |\n",
       "| Minnesota      |  5303925       |  1.6           | MN             |\n",
       "| Mississippi    |  2967297       |  8.6           | MS             |\n",
       "| Missouri       |  5988927       |  6.6           | MO             |\n",
       "| Montana        |   989415       |  3.6           | MT             |\n",
       "| Nebraska       |  1826341       |  2.9           | NE             |\n",
       "| Nevada         |  2700551       |  6.0           | NV             |\n",
       "| New Hampshire  |  1316470       |  0.9           | NH             |\n",
       "| New Jersey     |  8791894       |  3.9           | NJ             |\n",
       "| New Mexico     |  2059179       |  4.8           | NM             |\n",
       "| New York       | 19378102       |  3.1           | NY             |\n",
       "| North Carolina |  9535483       |  5.1           | NC             |\n",
       "| North Dakota   |   672591       |  3.0           | ND             |\n",
       "| Ohio           | 11536504       |  4.0           | OH             |\n",
       "| Oklahoma       |  3751351       |  4.5           | OK             |\n",
       "| Oregon         |  3831074       |  2.0           | OR             |\n",
       "| Pennsylvania   | 12702379       |  4.8           | PA             |\n",
       "| Rhode Island   |  1052567       |  2.4           | RI             |\n",
       "| South Carolina |  4625364       |  6.4           | SC             |\n",
       "| South Dakota   |   814180       |  2.3           | SD             |\n",
       "| Tennessee      |  6346105       |  5.7           | TN             |\n",
       "| Texas          | 25145561       |  4.4           | TX             |\n",
       "| Utah           |  2763885       |  2.3           | UT             |\n",
       "| Vermont        |   625741       |  1.6           | VT             |\n",
       "| Virginia       |  8001024       |  4.1           | VA             |\n",
       "| Washington     |  6724540       |  2.5           | WA             |\n",
       "| West Virginia  |  1852994       |  4.0           | WV             |\n",
       "| Wisconsin      |  5686986       |  2.9           | WI             |\n",
       "| Wyoming        |   563626       |  2.7           | WY             |\n",
       "\n"
      ],
      "text/plain": [
       "   State          Population Murder.Rate Abbreviation\n",
       "1  Alabama         4779736    5.7        AL          \n",
       "2  Alaska           710231    5.6        AK          \n",
       "3  Arizona         6392017    4.7        AZ          \n",
       "4  Arkansas        2915918    5.6        AR          \n",
       "5  California     37253956    4.4        CA          \n",
       "6  Colorado        5029196    2.8        CO          \n",
       "7  Connecticut     3574097    2.4        CT          \n",
       "8  Delaware         897934    5.8        DE          \n",
       "9  Florida        18801310    5.8        FL          \n",
       "10 Georgia         9687653    5.7        GA          \n",
       "11 Hawaii          1360301    1.8        HI          \n",
       "12 Idaho           1567582    2.0        ID          \n",
       "13 Illinois       12830632    5.3        IL          \n",
       "14 Indiana         6483802    5.0        IN          \n",
       "15 Iowa            3046355    1.9        IA          \n",
       "16 Kansas          2853118    3.1        KS          \n",
       "17 Kentucky        4339367    3.6        KY          \n",
       "18 Louisiana       4533372   10.3        LA          \n",
       "19 Maine           1328361    1.6        ME          \n",
       "20 Maryland        5773552    6.1        MD          \n",
       "21 Massachusetts   6547629    2.0        MA          \n",
       "22 Michigan        9883640    5.4        MI          \n",
       "23 Minnesota       5303925    1.6        MN          \n",
       "24 Mississippi     2967297    8.6        MS          \n",
       "25 Missouri        5988927    6.6        MO          \n",
       "26 Montana          989415    3.6        MT          \n",
       "27 Nebraska        1826341    2.9        NE          \n",
       "28 Nevada          2700551    6.0        NV          \n",
       "29 New Hampshire   1316470    0.9        NH          \n",
       "30 New Jersey      8791894    3.9        NJ          \n",
       "31 New Mexico      2059179    4.8        NM          \n",
       "32 New York       19378102    3.1        NY          \n",
       "33 North Carolina  9535483    5.1        NC          \n",
       "34 North Dakota     672591    3.0        ND          \n",
       "35 Ohio           11536504    4.0        OH          \n",
       "36 Oklahoma        3751351    4.5        OK          \n",
       "37 Oregon          3831074    2.0        OR          \n",
       "38 Pennsylvania   12702379    4.8        PA          \n",
       "39 Rhode Island    1052567    2.4        RI          \n",
       "40 South Carolina  4625364    6.4        SC          \n",
       "41 South Dakota     814180    2.3        SD          \n",
       "42 Tennessee       6346105    5.7        TN          \n",
       "43 Texas          25145561    4.4        TX          \n",
       "44 Utah            2763885    2.3        UT          \n",
       "45 Vermont          625741    1.6        VT          \n",
       "46 Virginia        8001024    4.1        VA          \n",
       "47 Washington      6724540    2.5        WA          \n",
       "48 West Virginia   1852994    4.0        WV          \n",
       "49 Wisconsin       5686986    2.9        WI          \n",
       "50 Wyoming          563626    2.7        WY          "
      ]
     },
     "metadata": {},
     "output_type": "display_data"
    }
   ],
   "source": [
    "state"
   ]
  },
  {
   "cell_type": "code",
   "execution_count": 6,
   "metadata": {},
   "outputs": [],
   "source": [
    "dfw <- read.csv('data/dfw_airline.csv')"
   ]
  },
  {
   "cell_type": "code",
   "execution_count": 7,
   "metadata": {},
   "outputs": [
    {
     "data": {
      "text/html": [
       "<table>\n",
       "<thead><tr><th scope=col>Carrier</th><th scope=col>ATC</th><th scope=col>Weather</th><th scope=col>Security</th><th scope=col>Inbound</th></tr></thead>\n",
       "<tbody>\n",
       "\t<tr><td>64263.16</td><td>84856.5 </td><td>11235.42</td><td>343.15  </td><td>118427.8</td></tr>\n",
       "</tbody>\n",
       "</table>\n"
      ],
      "text/latex": [
       "\\begin{tabular}{r|lllll}\n",
       " Carrier & ATC & Weather & Security & Inbound\\\\\n",
       "\\hline\n",
       "\t 64263.16 & 84856.5  & 11235.42 & 343.15   & 118427.8\\\\\n",
       "\\end{tabular}\n"
      ],
      "text/markdown": [
       "\n",
       "| Carrier | ATC | Weather | Security | Inbound |\n",
       "|---|---|---|---|---|\n",
       "| 64263.16 | 84856.5  | 11235.42 | 343.15   | 118427.8 |\n",
       "\n"
      ],
      "text/plain": [
       "  Carrier  ATC     Weather  Security Inbound \n",
       "1 64263.16 84856.5 11235.42 343.15   118427.8"
      ]
     },
     "metadata": {},
     "output_type": "display_data"
    }
   ],
   "source": [
    "dfw"
   ]
  },
  {
   "cell_type": "code",
   "execution_count": 8,
   "metadata": {},
   "outputs": [],
   "source": [
    "sp500_px <- read.csv('data/sp500_data.csv.gz')"
   ]
  },
  {
   "cell_type": "code",
   "execution_count": 9,
   "metadata": {},
   "outputs": [
    {
     "data": {
      "text/html": [
       "<table>\n",
       "<thead><tr><th scope=col>X</th><th scope=col>ADS</th><th scope=col>CA</th><th scope=col>MSFT</th><th scope=col>RHT</th><th scope=col>CTSH</th><th scope=col>CSC</th><th scope=col>EMC</th><th scope=col>IBM</th><th scope=col>XRX</th><th scope=col>...</th><th scope=col>WAT</th><th scope=col>ALXN</th><th scope=col>AMGN</th><th scope=col>BXLT</th><th scope=col>BIIB</th><th scope=col>CELG</th><th scope=col>GILD</th><th scope=col>REGN</th><th scope=col>VRTX</th><th scope=col>HSIC</th></tr></thead>\n",
       "<tbody>\n",
       "\t<tr><td>1993-01-29  </td><td>0           </td><td> 0.06012444 </td><td>-0.02209982 </td><td>0           </td><td>0           </td><td> 0.01889746 </td><td> 0.007368072</td><td> 0.09216520 </td><td> 0.25914009 </td><td>...         </td><td>0           </td><td>0           </td><td> 0.34716010 </td><td>0           </td><td> 0.04167    </td><td> 0.00000000 </td><td> 0.015563612</td><td> 1.75       </td><td> 0.1250     </td><td>0           </td></tr>\n",
       "\t<tr><td>1993-02-01  </td><td>0           </td><td>-0.18038896 </td><td> 0.02762115 </td><td>0           </td><td>0           </td><td> 0.01888884 </td><td> 0.018424887</td><td> 0.11520651 </td><td>-0.10077451 </td><td>...         </td><td>0           </td><td>0           </td><td>-0.23144007 </td><td>0           </td><td> 0.00000    </td><td>-0.01040992 </td><td> 0.007781806</td><td> 1.25       </td><td> 0.1250     </td><td>0           </td></tr>\n",
       "\t<tr><td>1993-02-02  </td><td>0           </td><td>-0.12025659 </td><td> 0.03589987 </td><td>0           </td><td>0           </td><td>-0.07557260 </td><td> 0.029481717</td><td>-0.02304130 </td><td> 0.02879553 </td><td>...         </td><td>0           </td><td>0           </td><td>-0.11572003 </td><td>0           </td><td> 0.00000    </td><td> 0.00000000 </td><td>-0.007791776</td><td>-0.25       </td><td> 0.0000     </td><td>0           </td></tr>\n",
       "\t<tr><td>1993-02-03  </td><td>0           </td><td> 0.06012420 </td><td>-0.02485703 </td><td>0           </td><td>0           </td><td>-0.15112797 </td><td> 0.003688752</td><td>-0.25345431 </td><td>-0.04319002 </td><td>...         </td><td>0           </td><td>0           </td><td>-0.08679003 </td><td>0           </td><td> 0.04167    </td><td>-0.04166996 </td><td>-0.038918978</td><td>-0.50       </td><td> 0.0625     </td><td>0           </td></tr>\n",
       "\t<tr><td>1993-02-04  </td><td>0           </td><td>-0.36076975 </td><td>-0.06075672 </td><td>0           </td><td>0           </td><td> 0.11335029 </td><td>-0.022113634</td><td> 0.06986180 </td><td> 0.00000000 </td><td>...         </td><td>0           </td><td>0           </td><td> 0.14465004 </td><td>0           </td><td>-0.04166    </td><td>-0.03126000 </td><td>-0.046710803</td><td> 0.00       </td><td> 0.0625     </td><td>0           </td></tr>\n",
       "\t<tr><td>1993-02-05  </td><td>0           </td><td> 0.03005777 </td><td> 0.09389247 </td><td>0           </td><td>0           </td><td> 0.09445283 </td><td>-0.047906563</td><td> 0.04657454 </td><td> 0.17276006 </td><td>...         </td><td>0           </td><td>0           </td><td>-0.33269069 </td><td>0           </td><td>-0.08333    </td><td>-0.01041000 </td><td> 0.015573582</td><td>-0.75       </td><td>-0.0625     </td><td>0           </td></tr>\n",
       "</tbody>\n",
       "</table>\n"
      ],
      "text/latex": [
       "\\begin{tabular}{r|llllllllllllllllllllllllllllllllllllllllllllllllllllllllllllllllllllllllllllllllllllllllllllllllllllllllllllllllllllllllllllllllllllllllllllllllllllllllllllllllllllllllllllllllllllllllllllllllllllllllllllllllllllllllllllllllllllllllllllllllllllllllllllllllllllllllllllllllllllllllllllllllllllllllllllllllllllllllllllllllllllllllllllllllllllllllllllllllllllllllllllllllllllllllllllllllllllllllllllllllllllllllllllllllllllllllllllllllllllllllllllllllllllllllllllllllllllllllllllllllllllllllllllllllllllllllllllllllllllll}\n",
       " X & ADS & CA & MSFT & RHT & CTSH & CSC & EMC & IBM & XRX & ... & WAT & ALXN & AMGN & BXLT & BIIB & CELG & GILD & REGN & VRTX & HSIC\\\\\n",
       "\\hline\n",
       "\t 1993-01-29   & 0            &  0.06012444  & -0.02209982  & 0            & 0            &  0.01889746  &  0.007368072 &  0.09216520  &  0.25914009  & ...          & 0            & 0            &  0.34716010  & 0            &  0.04167     &  0.00000000  &  0.015563612 &  1.75        &  0.1250      & 0           \\\\\n",
       "\t 1993-02-01   & 0            & -0.18038896  &  0.02762115  & 0            & 0            &  0.01888884  &  0.018424887 &  0.11520651  & -0.10077451  & ...          & 0            & 0            & -0.23144007  & 0            &  0.00000     & -0.01040992  &  0.007781806 &  1.25        &  0.1250      & 0           \\\\\n",
       "\t 1993-02-02   & 0            & -0.12025659  &  0.03589987  & 0            & 0            & -0.07557260  &  0.029481717 & -0.02304130  &  0.02879553  & ...          & 0            & 0            & -0.11572003  & 0            &  0.00000     &  0.00000000  & -0.007791776 & -0.25        &  0.0000      & 0           \\\\\n",
       "\t 1993-02-03   & 0            &  0.06012420  & -0.02485703  & 0            & 0            & -0.15112797  &  0.003688752 & -0.25345431  & -0.04319002  & ...          & 0            & 0            & -0.08679003  & 0            &  0.04167     & -0.04166996  & -0.038918978 & -0.50        &  0.0625      & 0           \\\\\n",
       "\t 1993-02-04   & 0            & -0.36076975  & -0.06075672  & 0            & 0            &  0.11335029  & -0.022113634 &  0.06986180  &  0.00000000  & ...          & 0            & 0            &  0.14465004  & 0            & -0.04166     & -0.03126000  & -0.046710803 &  0.00        &  0.0625      & 0           \\\\\n",
       "\t 1993-02-05   & 0            &  0.03005777  &  0.09389247  & 0            & 0            &  0.09445283  & -0.047906563 &  0.04657454  &  0.17276006  & ...          & 0            & 0            & -0.33269069  & 0            & -0.08333     & -0.01041000  &  0.015573582 & -0.75        & -0.0625      & 0           \\\\\n",
       "\\end{tabular}\n"
      ],
      "text/markdown": [
       "\n",
       "| X | ADS | CA | MSFT | RHT | CTSH | CSC | EMC | IBM | XRX | ... | WAT | ALXN | AMGN | BXLT | BIIB | CELG | GILD | REGN | VRTX | HSIC |\n",
       "|---|---|---|---|---|---|---|---|---|---|---|---|---|---|---|---|---|---|---|---|---|\n",
       "| 1993-01-29   | 0            |  0.06012444  | -0.02209982  | 0            | 0            |  0.01889746  |  0.007368072 |  0.09216520  |  0.25914009  | ...          | 0            | 0            |  0.34716010  | 0            |  0.04167     |  0.00000000  |  0.015563612 |  1.75        |  0.1250      | 0            |\n",
       "| 1993-02-01   | 0            | -0.18038896  |  0.02762115  | 0            | 0            |  0.01888884  |  0.018424887 |  0.11520651  | -0.10077451  | ...          | 0            | 0            | -0.23144007  | 0            |  0.00000     | -0.01040992  |  0.007781806 |  1.25        |  0.1250      | 0            |\n",
       "| 1993-02-02   | 0            | -0.12025659  |  0.03589987  | 0            | 0            | -0.07557260  |  0.029481717 | -0.02304130  |  0.02879553  | ...          | 0            | 0            | -0.11572003  | 0            |  0.00000     |  0.00000000  | -0.007791776 | -0.25        |  0.0000      | 0            |\n",
       "| 1993-02-03   | 0            |  0.06012420  | -0.02485703  | 0            | 0            | -0.15112797  |  0.003688752 | -0.25345431  | -0.04319002  | ...          | 0            | 0            | -0.08679003  | 0            |  0.04167     | -0.04166996  | -0.038918978 | -0.50        |  0.0625      | 0            |\n",
       "| 1993-02-04   | 0            | -0.36076975  | -0.06075672  | 0            | 0            |  0.11335029  | -0.022113634 |  0.06986180  |  0.00000000  | ...          | 0            | 0            |  0.14465004  | 0            | -0.04166     | -0.03126000  | -0.046710803 |  0.00        |  0.0625      | 0            |\n",
       "| 1993-02-05   | 0            |  0.03005777  |  0.09389247  | 0            | 0            |  0.09445283  | -0.047906563 |  0.04657454  |  0.17276006  | ...          | 0            | 0            | -0.33269069  | 0            | -0.08333     | -0.01041000  |  0.015573582 | -0.75        | -0.0625      | 0            |\n",
       "\n"
      ],
      "text/plain": [
       "  X          ADS CA          MSFT        RHT CTSH CSC         EMC         \n",
       "1 1993-01-29 0    0.06012444 -0.02209982 0   0     0.01889746  0.007368072\n",
       "2 1993-02-01 0   -0.18038896  0.02762115 0   0     0.01888884  0.018424887\n",
       "3 1993-02-02 0   -0.12025659  0.03589987 0   0    -0.07557260  0.029481717\n",
       "4 1993-02-03 0    0.06012420 -0.02485703 0   0    -0.15112797  0.003688752\n",
       "5 1993-02-04 0   -0.36076975 -0.06075672 0   0     0.11335029 -0.022113634\n",
       "6 1993-02-05 0    0.03005777  0.09389247 0   0     0.09445283 -0.047906563\n",
       "  IBM         XRX         ... WAT ALXN AMGN        BXLT BIIB     CELG       \n",
       "1  0.09216520  0.25914009 ... 0   0     0.34716010 0     0.04167  0.00000000\n",
       "2  0.11520651 -0.10077451 ... 0   0    -0.23144007 0     0.00000 -0.01040992\n",
       "3 -0.02304130  0.02879553 ... 0   0    -0.11572003 0     0.00000  0.00000000\n",
       "4 -0.25345431 -0.04319002 ... 0   0    -0.08679003 0     0.04167 -0.04166996\n",
       "5  0.06986180  0.00000000 ... 0   0     0.14465004 0    -0.04166 -0.03126000\n",
       "6  0.04657454  0.17276006 ... 0   0    -0.33269069 0    -0.08333 -0.01041000\n",
       "  GILD         REGN  VRTX    HSIC\n",
       "1  0.015563612  1.75  0.1250 0   \n",
       "2  0.007781806  1.25  0.1250 0   \n",
       "3 -0.007791776 -0.25  0.0000 0   \n",
       "4 -0.038918978 -0.50  0.0625 0   \n",
       "5 -0.046710803  0.00  0.0625 0   \n",
       "6  0.015573582 -0.75 -0.0625 0   "
      ]
     },
     "metadata": {},
     "output_type": "display_data"
    }
   ],
   "source": [
    "head(sp500_px)"
   ]
  },
  {
   "cell_type": "code",
   "execution_count": 10,
   "metadata": {},
   "outputs": [],
   "source": [
    "sp500_sym <- read.csv('data/sp500_sectors.csv')"
   ]
  },
  {
   "cell_type": "code",
   "execution_count": 11,
   "metadata": {},
   "outputs": [
    {
     "data": {
      "text/html": [
       "<table>\n",
       "<thead><tr><th scope=col>sector</th><th scope=col>sector_label</th><th scope=col>sub_sector</th><th scope=col>symbol</th></tr></thead>\n",
       "<tbody>\n",
       "\t<tr><td>information_technology                   </td><td>Technology                               </td><td>data_processing_&amp;_outsourced_services</td><td>ADS                                      </td></tr>\n",
       "\t<tr><td>information_technology               </td><td>Technology                           </td><td>systems_software                     </td><td>CA                                   </td></tr>\n",
       "\t<tr><td>information_technology               </td><td>Technology                           </td><td>systems_software                     </td><td>MSFT                                 </td></tr>\n",
       "\t<tr><td>information_technology               </td><td>Technology                           </td><td>systems_software                     </td><td>RHT                                  </td></tr>\n",
       "\t<tr><td>information_technology                                                           </td><td>Technology                                                                       </td><td><span style=white-space:pre-wrap>it_consulting_&amp;_services             </span></td><td>CTSH                                                                             </td></tr>\n",
       "\t<tr><td>information_technology                                                           </td><td>Technology                                                                       </td><td><span style=white-space:pre-wrap>it_consulting_&amp;_services             </span></td><td>CSC                                                                              </td></tr>\n",
       "</tbody>\n",
       "</table>\n"
      ],
      "text/latex": [
       "\\begin{tabular}{r|llll}\n",
       " sector & sector\\_label & sub\\_sector & symbol\\\\\n",
       "\\hline\n",
       "\t information\\_technology                        & Technology                                      & data\\_processing\\_\\&\\_outsourced\\_services & ADS                                            \\\\\n",
       "\t information\\_technology                & Technology                              & systems\\_software                      & CA                                     \\\\\n",
       "\t information\\_technology                & Technology                              & systems\\_software                      & MSFT                                   \\\\\n",
       "\t information\\_technology                & Technology                              & systems\\_software                      & RHT                                    \\\\\n",
       "\t information\\_technology                      & Technology                                    & it\\_consulting\\_\\&\\_services              & CTSH                                         \\\\\n",
       "\t information\\_technology                      & Technology                                    & it\\_consulting\\_\\&\\_services              & CSC                                          \\\\\n",
       "\\end{tabular}\n"
      ],
      "text/markdown": [
       "\n",
       "| sector | sector_label | sub_sector | symbol |\n",
       "|---|---|---|---|\n",
       "| information_technology                | Technology                            | data_processing_&_outsourced_services | ADS                                   |\n",
       "| information_technology                | Technology                            | systems_software                      | CA                                    |\n",
       "| information_technology                | Technology                            | systems_software                      | MSFT                                  |\n",
       "| information_technology                | Technology                            | systems_software                      | RHT                                   |\n",
       "| information_technology                | Technology                            | it_consulting_&_services              | CTSH                                  |\n",
       "| information_technology                | Technology                            | it_consulting_&_services              | CSC                                   |\n",
       "\n"
      ],
      "text/plain": [
       "  sector                 sector_label sub_sector                           \n",
       "1 information_technology Technology   data_processing_&_outsourced_services\n",
       "2 information_technology Technology   systems_software                     \n",
       "3 information_technology Technology   systems_software                     \n",
       "4 information_technology Technology   systems_software                     \n",
       "5 information_technology Technology   it_consulting_&_services             \n",
       "6 information_technology Technology   it_consulting_&_services             \n",
       "  symbol\n",
       "1 ADS   \n",
       "2 CA    \n",
       "3 MSFT  \n",
       "4 RHT   \n",
       "5 CTSH  \n",
       "6 CSC   "
      ]
     },
     "metadata": {},
     "output_type": "display_data"
    }
   ],
   "source": [
    "head(sp500_sym)"
   ]
  },
  {
   "cell_type": "code",
   "execution_count": 12,
   "metadata": {},
   "outputs": [
    {
     "data": {
      "text/html": [
       "<table>\n",
       "<thead><tr><th scope=col>TaxAssessedValue</th><th scope=col>SqFtTotLiving</th><th scope=col>ZipCode</th></tr></thead>\n",
       "<tbody>\n",
       "\t<tr><td>    NA</td><td>1730  </td><td>98117 </td></tr>\n",
       "\t<tr><td>206000</td><td>1870  </td><td>98002 </td></tr>\n",
       "\t<tr><td>303000</td><td>1530  </td><td>98166 </td></tr>\n",
       "\t<tr><td>361000</td><td>2000  </td><td>98108 </td></tr>\n",
       "\t<tr><td>459000</td><td>3150  </td><td>98108 </td></tr>\n",
       "\t<tr><td>223000</td><td>1570  </td><td>98032 </td></tr>\n",
       "</tbody>\n",
       "</table>\n"
      ],
      "text/latex": [
       "\\begin{tabular}{r|lll}\n",
       " TaxAssessedValue & SqFtTotLiving & ZipCode\\\\\n",
       "\\hline\n",
       "\t     NA & 1730   & 98117 \\\\\n",
       "\t 206000 & 1870   & 98002 \\\\\n",
       "\t 303000 & 1530   & 98166 \\\\\n",
       "\t 361000 & 2000   & 98108 \\\\\n",
       "\t 459000 & 3150   & 98108 \\\\\n",
       "\t 223000 & 1570   & 98032 \\\\\n",
       "\\end{tabular}\n"
      ],
      "text/markdown": [
       "\n",
       "| TaxAssessedValue | SqFtTotLiving | ZipCode |\n",
       "|---|---|---|\n",
       "|     NA | 1730   | 98117  |\n",
       "| 206000 | 1870   | 98002  |\n",
       "| 303000 | 1530   | 98166  |\n",
       "| 361000 | 2000   | 98108  |\n",
       "| 459000 | 3150   | 98108  |\n",
       "| 223000 | 1570   | 98032  |\n",
       "\n"
      ],
      "text/plain": [
       "  TaxAssessedValue SqFtTotLiving ZipCode\n",
       "1     NA           1730          98117  \n",
       "2 206000           1870          98002  \n",
       "3 303000           1530          98166  \n",
       "4 361000           2000          98108  \n",
       "5 459000           3150          98108  \n",
       "6 223000           1570          98032  "
      ]
     },
     "metadata": {},
     "output_type": "display_data"
    }
   ],
   "source": [
    "kc_tax <- read.csv('data/kc_tax.csv.gz')\n",
    "head(kc_tax)"
   ]
  },
  {
   "cell_type": "code",
   "execution_count": 13,
   "metadata": {},
   "outputs": [
    {
     "data": {
      "text/html": [
       "<table>\n",
       "<thead><tr><th scope=col>status</th><th scope=col>grade</th></tr></thead>\n",
       "<tbody>\n",
       "\t<tr><td>Fully Paid </td><td>B          </td></tr>\n",
       "\t<tr><td>Charged Off</td><td>C          </td></tr>\n",
       "\t<tr><td>Fully Paid </td><td>C          </td></tr>\n",
       "\t<tr><td>Fully Paid </td><td>C          </td></tr>\n",
       "\t<tr><td>Current    </td><td>B          </td></tr>\n",
       "\t<tr><td>Fully Paid </td><td>A          </td></tr>\n",
       "</tbody>\n",
       "</table>\n"
      ],
      "text/latex": [
       "\\begin{tabular}{r|ll}\n",
       " status & grade\\\\\n",
       "\\hline\n",
       "\t Fully Paid  & B          \\\\\n",
       "\t Charged Off & C          \\\\\n",
       "\t Fully Paid  & C          \\\\\n",
       "\t Fully Paid  & C          \\\\\n",
       "\t Current     & B          \\\\\n",
       "\t Fully Paid  & A          \\\\\n",
       "\\end{tabular}\n"
      ],
      "text/markdown": [
       "\n",
       "| status | grade |\n",
       "|---|---|\n",
       "| Fully Paid  | B           |\n",
       "| Charged Off | C           |\n",
       "| Fully Paid  | C           |\n",
       "| Fully Paid  | C           |\n",
       "| Current     | B           |\n",
       "| Fully Paid  | A           |\n",
       "\n"
      ],
      "text/plain": [
       "  status      grade\n",
       "1 Fully Paid  B    \n",
       "2 Charged Off C    \n",
       "3 Fully Paid  C    \n",
       "4 Fully Paid  C    \n",
       "5 Current     B    \n",
       "6 Fully Paid  A    "
      ]
     },
     "metadata": {},
     "output_type": "display_data"
    }
   ],
   "source": [
    "lc_loans <- read.csv('data/lc_loans.csv')\n",
    "head(lc_loans)"
   ]
  },
  {
   "cell_type": "code",
   "execution_count": 14,
   "metadata": {},
   "outputs": [],
   "source": [
    "airline_stats <- read.csv('data/airline_stats.csv')"
   ]
  },
  {
   "cell_type": "code",
   "execution_count": 15,
   "metadata": {},
   "outputs": [
    {
     "data": {
      "text/html": [
       "<table>\n",
       "<thead><tr><th scope=col>pct_carrier_delay</th><th scope=col>pct_atc_delay</th><th scope=col>pct_weather_delay</th><th scope=col>airline</th></tr></thead>\n",
       "<tbody>\n",
       "\t<tr><td> 8.153226</td><td> 1.971774</td><td>0.7620968</td><td>American </td></tr>\n",
       "\t<tr><td> 5.959924</td><td> 3.706107</td><td>1.5858779</td><td>American </td></tr>\n",
       "\t<tr><td> 7.157270</td><td> 2.706231</td><td>2.0267062</td><td>American </td></tr>\n",
       "\t<tr><td>12.100000</td><td>11.033333</td><td>0.0000000</td><td>American </td></tr>\n",
       "\t<tr><td> 7.333333</td><td> 3.365591</td><td>1.7741935</td><td>American </td></tr>\n",
       "\t<tr><td> 6.163889</td><td> 3.225000</td><td>0.9750000</td><td>American </td></tr>\n",
       "</tbody>\n",
       "</table>\n"
      ],
      "text/latex": [
       "\\begin{tabular}{r|llll}\n",
       " pct\\_carrier\\_delay & pct\\_atc\\_delay & pct\\_weather\\_delay & airline\\\\\n",
       "\\hline\n",
       "\t  8.153226 &  1.971774 & 0.7620968 & American \\\\\n",
       "\t  5.959924 &  3.706107 & 1.5858779 & American \\\\\n",
       "\t  7.157270 &  2.706231 & 2.0267062 & American \\\\\n",
       "\t 12.100000 & 11.033333 & 0.0000000 & American \\\\\n",
       "\t  7.333333 &  3.365591 & 1.7741935 & American \\\\\n",
       "\t  6.163889 &  3.225000 & 0.9750000 & American \\\\\n",
       "\\end{tabular}\n"
      ],
      "text/markdown": [
       "\n",
       "| pct_carrier_delay | pct_atc_delay | pct_weather_delay | airline |\n",
       "|---|---|---|---|\n",
       "|  8.153226 |  1.971774 | 0.7620968 | American  |\n",
       "|  5.959924 |  3.706107 | 1.5858779 | American  |\n",
       "|  7.157270 |  2.706231 | 2.0267062 | American  |\n",
       "| 12.100000 | 11.033333 | 0.0000000 | American  |\n",
       "|  7.333333 |  3.365591 | 1.7741935 | American  |\n",
       "|  6.163889 |  3.225000 | 0.9750000 | American  |\n",
       "\n"
      ],
      "text/plain": [
       "  pct_carrier_delay pct_atc_delay pct_weather_delay airline \n",
       "1  8.153226          1.971774     0.7620968         American\n",
       "2  5.959924          3.706107     1.5858779         American\n",
       "3  7.157270          2.706231     2.0267062         American\n",
       "4 12.100000         11.033333     0.0000000         American\n",
       "5  7.333333          3.365591     1.7741935         American\n",
       "6  6.163889          3.225000     0.9750000         American"
      ]
     },
     "metadata": {},
     "output_type": "display_data"
    }
   ],
   "source": [
    "head(airline_stats)"
   ]
  },
  {
   "cell_type": "code",
   "execution_count": 16,
   "metadata": {},
   "outputs": [],
   "source": [
    "airline_stats$airline <- ordered(airline_stats$airline, \n",
    "                                 levels=c('Alaska', 'American', 'Jet Blue', 'Delta', 'United', 'Southwest'))"
   ]
  },
  {
   "cell_type": "markdown",
   "metadata": {},
   "source": [
    " # Estimates of Location\n",
    "## Example: Location Estimates of Population and Murder Rates"
   ]
  },
  {
   "cell_type": "code",
   "execution_count": 17,
   "metadata": {},
   "outputs": [
    {
     "data": {
      "text/html": [
       "<table>\n",
       "<thead><tr><th scope=col>State</th><th scope=col>Population</th><th scope=col>Murder.Rate</th><th scope=col>Abbreviation</th></tr></thead>\n",
       "<tbody>\n",
       "\t<tr><td>Alabama    </td><td>4,779,736  </td><td>5.7        </td><td>AL         </td></tr>\n",
       "\t<tr><td>Alaska     </td><td>710,231    </td><td>5.6        </td><td>AK         </td></tr>\n",
       "\t<tr><td>Arizona    </td><td>6,392,017  </td><td>4.7        </td><td>AZ         </td></tr>\n",
       "\t<tr><td>Arkansas   </td><td>2,915,918  </td><td>5.6        </td><td>AR         </td></tr>\n",
       "\t<tr><td>California </td><td>37,253,956 </td><td>4.4        </td><td>CA         </td></tr>\n",
       "\t<tr><td>Colorado   </td><td>5,029,196  </td><td>2.8        </td><td>CO         </td></tr>\n",
       "\t<tr><td>Connecticut</td><td>3,574,097  </td><td>2.4        </td><td>CT         </td></tr>\n",
       "\t<tr><td>Delaware   </td><td>897,934    </td><td>5.8        </td><td>DE         </td></tr>\n",
       "</tbody>\n",
       "</table>\n"
      ],
      "text/latex": [
       "\\begin{tabular}{r|llll}\n",
       " State & Population & Murder.Rate & Abbreviation\\\\\n",
       "\\hline\n",
       "\t Alabama     & 4,779,736   & 5.7         & AL         \\\\\n",
       "\t Alaska      & 710,231     & 5.6         & AK         \\\\\n",
       "\t Arizona     & 6,392,017   & 4.7         & AZ         \\\\\n",
       "\t Arkansas    & 2,915,918   & 5.6         & AR         \\\\\n",
       "\t California  & 37,253,956  & 4.4         & CA         \\\\\n",
       "\t Colorado    & 5,029,196   & 2.8         & CO         \\\\\n",
       "\t Connecticut & 3,574,097   & 2.4         & CT         \\\\\n",
       "\t Delaware    & 897,934     & 5.8         & DE         \\\\\n",
       "\\end{tabular}\n"
      ],
      "text/markdown": [
       "\n",
       "| State | Population | Murder.Rate | Abbreviation |\n",
       "|---|---|---|---|\n",
       "| Alabama     | 4,779,736   | 5.7         | AL          |\n",
       "| Alaska      | 710,231     | 5.6         | AK          |\n",
       "| Arizona     | 6,392,017   | 4.7         | AZ          |\n",
       "| Arkansas    | 2,915,918   | 5.6         | AR          |\n",
       "| California  | 37,253,956  | 4.4         | CA          |\n",
       "| Colorado    | 5,029,196   | 2.8         | CO          |\n",
       "| Connecticut | 3,574,097   | 2.4         | CT          |\n",
       "| Delaware    | 897,934     | 5.8         | DE          |\n",
       "\n"
      ],
      "text/plain": [
       "  State       Population Murder.Rate Abbreviation\n",
       "1 Alabama     4,779,736  5.7         AL          \n",
       "2 Alaska      710,231    5.6         AK          \n",
       "3 Arizona     6,392,017  4.7         AZ          \n",
       "4 Arkansas    2,915,918  5.6         AR          \n",
       "5 California  37,253,956 4.4         CA          \n",
       "6 Colorado    5,029,196  2.8         CO          \n",
       "7 Connecticut 3,574,097  2.4         CT          \n",
       "8 Delaware    897,934    5.8         DE          "
      ]
     },
     "metadata": {},
     "output_type": "display_data"
    }
   ],
   "source": [
    "# Table 1-2\n",
    "state_asc <- state\n",
    "state_asc[['Population']] <- formatC(state_asc[['Population']], format='d', digits=0, big.mark=',')\n",
    "state_asc[1:8,]"
   ]
  },
  {
   "cell_type": "code",
   "execution_count": 18,
   "metadata": {},
   "outputs": [
    {
     "data": {
      "text/html": [
       "6162876.3"
      ],
      "text/latex": [
       "6162876.3"
      ],
      "text/markdown": [
       "6162876.3"
      ],
      "text/plain": [
       "[1] 6162876"
      ]
     },
     "metadata": {},
     "output_type": "display_data"
    },
    {
     "data": {
      "text/html": [
       "4783697.125"
      ],
      "text/latex": [
       "4783697.125"
      ],
      "text/markdown": [
       "4783697.125"
      ],
      "text/plain": [
       "[1] 4783697"
      ]
     },
     "metadata": {},
     "output_type": "display_data"
    },
    {
     "data": {
      "text/html": [
       "4436369.5"
      ],
      "text/latex": [
       "4436369.5"
      ],
      "text/markdown": [
       "4436369.5"
      ],
      "text/plain": [
       "[1] 4436370"
      ]
     },
     "metadata": {},
     "output_type": "display_data"
    }
   ],
   "source": [
    "mean(state[['Population']])\n",
    "mean(state[['Population']], trim=0.1)\n",
    "median(state[['Population']])"
   ]
  },
  {
   "cell_type": "code",
   "execution_count": 19,
   "metadata": {},
   "outputs": [
    {
     "data": {
      "text/html": [
       "4.44583398112339"
      ],
      "text/latex": [
       "4.44583398112339"
      ],
      "text/markdown": [
       "4.44583398112339"
      ],
      "text/plain": [
       "[1] 4.445834"
      ]
     },
     "metadata": {},
     "output_type": "display_data"
    },
    {
     "data": {
      "text/html": [
       "4.4"
      ],
      "text/latex": [
       "4.4"
      ],
      "text/markdown": [
       "4.4"
      ],
      "text/plain": [
       "[1] 4.4"
      ]
     },
     "metadata": {},
     "output_type": "display_data"
    }
   ],
   "source": [
    "weighted.mean(state[['Murder.Rate']], w=state[['Population']])\n",
    "library('matrixStats')\n",
    "weightedMedian(state[['Murder.Rate']], w=state[['Population']])"
   ]
  },
  {
   "cell_type": "markdown",
   "metadata": {},
   "source": [
    "# Estimates of Variability"
   ]
  },
  {
   "cell_type": "code",
   "execution_count": 20,
   "metadata": {},
   "outputs": [
    {
     "data": {
      "text/html": [
       "6848235.34740114"
      ],
      "text/latex": [
       "6848235.34740114"
      ],
      "text/markdown": [
       "6848235.34740114"
      ],
      "text/plain": [
       "[1] 6848235"
      ]
     },
     "metadata": {},
     "output_type": "display_data"
    },
    {
     "data": {
      "text/html": [
       "4847308"
      ],
      "text/latex": [
       "4847308"
      ],
      "text/markdown": [
       "4847308"
      ],
      "text/plain": [
       "[1] 4847308"
      ]
     },
     "metadata": {},
     "output_type": "display_data"
    },
    {
     "data": {
      "text/html": [
       "3849870.3852"
      ],
      "text/latex": [
       "3849870.3852"
      ],
      "text/markdown": [
       "3849870.3852"
      ],
      "text/plain": [
       "[1] 3849870"
      ]
     },
     "metadata": {},
     "output_type": "display_data"
    }
   ],
   "source": [
    "sd(state[['Population']])\n",
    "IQR(state[['Population']])\n",
    "mad(state[['Population']])"
   ]
  },
  {
   "cell_type": "markdown",
   "metadata": {},
   "source": [
    "# Percentiles and Boxplots"
   ]
  },
  {
   "cell_type": "code",
   "execution_count": 21,
   "metadata": {},
   "outputs": [
    {
     "data": {
      "text/html": [
       "<dl class=dl-horizontal>\n",
       "\t<dt>5%</dt>\n",
       "\t\t<dd>1.6</dd>\n",
       "\t<dt>25%</dt>\n",
       "\t\t<dd>2.425</dd>\n",
       "\t<dt>50%</dt>\n",
       "\t\t<dd>4</dd>\n",
       "\t<dt>75%</dt>\n",
       "\t\t<dd>5.55</dd>\n",
       "\t<dt>95%</dt>\n",
       "\t\t<dd>6.51</dd>\n",
       "</dl>\n"
      ],
      "text/latex": [
       "\\begin{description*}\n",
       "\\item[5\\textbackslash{}\\%] 1.6\n",
       "\\item[25\\textbackslash{}\\%] 2.425\n",
       "\\item[50\\textbackslash{}\\%] 4\n",
       "\\item[75\\textbackslash{}\\%] 5.55\n",
       "\\item[95\\textbackslash{}\\%] 6.51\n",
       "\\end{description*}\n"
      ],
      "text/markdown": [
       "5%\n",
       ":   1.625%\n",
       ":   2.42550%\n",
       ":   475%\n",
       ":   5.5595%\n",
       ":   6.51\n",
       "\n"
      ],
      "text/plain": [
       "   5%   25%   50%   75%   95% \n",
       "1.600 2.425 4.000 5.550 6.510 "
      ]
     },
     "metadata": {},
     "output_type": "display_data"
    }
   ],
   "source": [
    "quantile(state[['Murder.Rate']], p=c(.05, .25, .5, .75, .95))"
   ]
  },
  {
   "cell_type": "code",
   "execution_count": 22,
   "metadata": {},
   "outputs": [
    {
     "data": {
      "image/png": "[encoded data removed]",
      "text/plain": [
       "plot without title"
      ]
     },
     "metadata": {},
     "output_type": "display_data"
    }
   ],
   "source": [
    "boxplot(state[['Population']]/1000000, ylab='Population (millions)')"
   ]
  },
  {
   "cell_type": "markdown",
   "metadata": {},
   "source": [
    "## Frequency Table and Histograms"
   ]
  },
  {
   "cell_type": "code",
   "execution_count": 23,
   "metadata": {},
   "outputs": [
    {
     "data": {
      "text/plain": [
       "pop_freq\n",
       "[5.64e+05,4.23e+06]  (4.23e+06,7.9e+06]  (7.9e+06,1.16e+07] (1.16e+07,1.52e+07] \n",
       "                 24                  14                   6                   2 \n",
       "(1.52e+07,1.89e+07] (1.89e+07,2.26e+07] (2.26e+07,2.62e+07] (2.62e+07,2.99e+07] \n",
       "                  1                   1                   1                   0 \n",
       "(2.99e+07,3.36e+07] (3.36e+07,3.73e+07] \n",
       "                  0                   1 "
      ]
     },
     "metadata": {},
     "output_type": "display_data"
    }
   ],
   "source": [
    "breaks <- seq(from=min(state[['Population']]), \n",
    "              to=max(state[['Population']]), length=11)\n",
    "pop_freq <- cut(state[['Population']], breaks=breaks, \n",
    "                right=TRUE, include.lowest=TRUE)\n",
    "state['PopFreq'] <- pop_freq\n",
    "table(pop_freq)"
   ]
  },
  {
   "cell_type": "code",
   "execution_count": 24,
   "metadata": {},
   "outputs": [
    {
     "data": {
      "image/png": "[encoded data removed]",
      "text/plain": [
       "Plot with title \"Histogram of state[[\"Population\"]]\""
      ]
     },
     "metadata": {},
     "output_type": "display_data"
    }
   ],
   "source": [
    "options(scipen=5)\n",
    "hist(state[['Population']], breaks=breaks)"
   ]
  },
  {
   "cell_type": "markdown",
   "metadata": {},
   "source": [
    "# Density Estimates\n",
    "Density is an alternative to histograms that can provide more insight into the distribution of the data points. "
   ]
  },
  {
   "cell_type": "code",
   "execution_count": 25,
   "metadata": {},
   "outputs": [
    {
     "data": {
      "image/png": "[encoded data removed]",
      "text/plain": [
       "Plot with title \"Histogram of state[[\"Murder.Rate\"]]\""
      ]
     },
     "metadata": {},
     "output_type": "display_data"
    }
   ],
   "source": [
    "hist(state[['Murder.Rate']], freq=FALSE )\n",
    "lines(density(state[['Murder.Rate']]), lwd=3, col='blue')"
   ]
  },
  {
   "cell_type": "markdown",
   "metadata": {},
   "source": [
    "## Exploring Binary and Categorical Data"
   ]
  },
  {
   "cell_type": "code",
   "execution_count": 26,
   "metadata": {},
   "outputs": [
    {
     "data": {
      "image/png": "[encoded data removed]",
      "text/plain": [
       "plot without title"
      ]
     },
     "metadata": {},
     "output_type": "display_data"
    }
   ],
   "source": [
    "barplot(as.matrix(dfw) / 6, cex.axis=0.8, cex.names=0.7, \n",
    "        xlab='Cause of delay', ylab='Count')"
   ]
  },
  {
   "cell_type": "markdown",
   "metadata": {},
   "source": [
    "# Correlation"
   ]
  },
  {
   "cell_type": "code",
   "execution_count": 27,
   "metadata": {},
   "outputs": [],
   "source": [
    "telecom <- sp500_px[, sp500_sym[sp500_sym$sector == 'telecommunications_services', 'symbol']]\n",
    "telecom <- telecom[row.names(telecom) > '2012-07-01',]\n",
    "telecom_cor <- cor(telecom)"
   ]
  },
  {
   "cell_type": "markdown",
   "metadata": {},
   "source": [
    "Next we focus on funds traded on major exchanges (sector == 'etf'). "
   ]
  },
  {
   "cell_type": "code",
   "execution_count": 28,
   "metadata": {},
   "outputs": [
    {
     "data": {
      "image/png": "[encoded data removed]",
      "text/plain": [
       "Plot with title \"\""
      ]
     },
     "metadata": {},
     "output_type": "display_data"
    }
   ],
   "source": [
    "etfs <- sp500_px[row.names(sp500_px) > '2012-07-01', \n",
    "                 sp500_sym[sp500_sym$sector == 'etf', 'symbol']]\n",
    "corrplot(cor(etfs), method='ellipse')"
   ]
  },
  {
   "cell_type": "code",
   "execution_count": 31,
   "metadata": {},
   "outputs": [
    {
     "data": {
      "image/png": "[encoded data removed]",
      "text/plain": [
       "plot without title"
      ]
     },
     "metadata": {},
     "output_type": "display_data"
    }
   ],
   "source": [
    "boxplot(pct_carrier_delay ~ airline, data=airline_stats, ylim=c(0, 50), \n",
    "        cex.axis=.6, ylab='Daily % of Delayed Flights')"
   ]
  },
  {
   "cell_type": "code",
   "execution_count": 32,
   "metadata": {},
   "outputs": [
    {
     "name": "stderr",
     "output_type": "stream",
     "text": [
      "Warning message:\n",
      "\"Removed 38 rows containing non-finite values (stat_ydensity).\"Warning message:\n",
      "\"Removed 38 rows containing non-finite values (stat_ydensity).\"Warning message in regularize.values(x, y, ties, missing(ties)):\n",
      "\"collapsing to unique 'x' values\"Warning message in regularize.values(x, y, ties, missing(ties)):\n",
      "\"collapsing to unique 'x' values\""
     ]
    },
    {
     "data": {
      "image/png": "[encoded data removed]",
      "text/plain": [
       "plot without title"
      ]
     },
     "metadata": {},
     "output_type": "display_data"
    }
   ],
   "source": [
    "graph <- ggplot(data=airline_stats, aes(airline, pct_carrier_delay)) + \n",
    "  ylim(0, 50) + \n",
    "  geom_violin(draw_quantiles = c(.25,.5,.75), linetype=2) +\n",
    "  geom_violin(fill=NA, size=1.1) +\n",
    "  labs(x='', y='Daily % of Delayed Flights') +\n",
    "  theme_bw()\n",
    "graph"
   ]
  },
  {
   "cell_type": "code",
   "execution_count": null,
   "metadata": {},
   "outputs": [],
   "source": []
  }
 ],
 "metadata": {
  "kernelspec": {
   "display_name": "R",
   "language": "R",
   "name": "ir"
  },
  "language_info": {
   "codemirror_mode": "r",
   "file_extension": ".r",
   "mimetype": "text/x-r-source",
   "name": "R",
   "pygments_lexer": "r",
   "version": "3.6.1"
  }
 },
 "nbformat": 4,
 "nbformat_minor": 2
}
